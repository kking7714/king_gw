{
 "cells": [
  {
   "cell_type": "code",
   "execution_count": null,
   "metadata": {
    "collapsed": true
   },
   "outputs": [],
   "source": [
    "# Observed Trends:\n",
    "#     Trend 1: An apparent drop in city temperature occurs at 20 degrees latitude and continues to lower as latitude increases.\n",
    "#     Trend 2: Based on the 500 random cities selected there is little to no correlation between latitude and other weather stats analyzed.\n",
    "#     Trend 3: Querying a larger number of cities and aggregating more dates would likely provide better insight to latitude correlations of weather trends.\n"
   ]
  },
  {
   "cell_type": "code",
   "execution_count": null,
   "metadata": {
    "collapsed": true
   },
   "outputs": [],
   "source": [
    "import random\n",
    "import datetime\n",
    "import pandas as pd\n",
    "import matplotlib.pyplot as plt\n",
    "import openweathermapy.core as ow"
   ]
  },
  {
   "cell_type": "code",
   "execution_count": null,
   "metadata": {},
   "outputs": [],
   "source": [
    "# User provides API key \n",
    "api_key = input(\"Please enter your OpenWeather API key: \")\n",
    "key = str(api_key)\n",
    "settings = {\"units\":\"imperial\",\"appid\":api_key}\n",
    "#current date\n",
    "d = datetime.datetime.today()\n",
    "now = (d.strftime('%m/%d/%Y'))"
   ]
  },
  {
   "cell_type": "code",
   "execution_count": null,
   "metadata": {},
   "outputs": [],
   "source": [
    "path = 'Resources/citipy-0.0.5/citipy/worldcities.csv'\n",
    "world_cities = pd.read_csv(path)\n",
    "world_cities_df = world_cities.reset_index()\n",
    "world_cities_df.head()"
   ]
  },
  {
   "cell_type": "code",
   "execution_count": null,
   "metadata": {},
   "outputs": [],
   "source": [
    "# Replace with user selection later on while allowing no more then 500\n",
    "rand_select = input(\"How many cities would you like to search? \")\n",
    "user_rand = int(rand_select)\n",
    "if user_rand > 500:\n",
    "    user_rand = 500\n",
    "    print(\"\\nYou chose too many cities to search. We've defaulted your query to 500.\")\n",
    "\n",
    "# Selects a random sample of cities from the data frame\n",
    "cities_ = world_cities_df['City'].sample(n=user_rand)\n",
    "cities = cities_.reset_index()"
   ]
  },
  {
   "cell_type": "code",
   "execution_count": null,
   "metadata": {},
   "outputs": [],
   "source": [
    "# API loop with randomly selected cities. Print processing log with city number, city name, and requested URL\n",
    "\n",
    "results = [] #store response here\n",
    "print(\"Beginning Data Retrieval\")\n",
    "num = 0\n",
    "for city in cities['City']:\n",
    "    try: \n",
    "        response = ow.get_current(city, **settings)\n",
    "        results.append(response)\n",
    "        num = num + 1\n",
    "        print(\"------------------------\")\n",
    "        print(\"Processing \" + str(num) + \" of \" + str(user_rand) + \": \")\n",
    "        print(\"City ID: \" + str(response['id']) + \" | \" + \"City Name: \" + response['name'])\n",
    "        print(\"http://api.openweathermap.org/data/2.5/weather?units=Imperial&APPID=\" + key + \"&q=\" + city)\n",
    "    except:\n",
    "        print(\"------------------------\\nUnable to find record, moving to next city...\")\n",
    "\n"
   ]
  },
  {
   "cell_type": "code",
   "execution_count": null,
   "metadata": {
    "collapsed": true
   },
   "outputs": [],
   "source": [
    "#retrieve relevant weather info\n",
    "temp_max = [data.get(\"main\").get(\"temp_max\") for data in results]\n",
    "humid = [data.get(\"main\").get(\"humidity\") for data in results]\n",
    "cloud = [data.get(\"clouds\").get(\"all\") for data in results]\n",
    "wind = [data.get(\"wind\").get(\"speed\") for data in results]\n",
    "\n",
    "#retrieve location information\n",
    "name = [data.get(\"name\") for data in results]\n",
    "country = [data.get(\"sys\").get(\"country\") for data in results]\n",
    "lat = [data.get(\"coord\").get(\"lat\") for data in results]\n",
    "lon = [data.get(\"coord\").get(\"lon\") for data in results]\n",
    "date = [data.get(\"dt\") for data in results]\n",
    "\n",
    "# create dictionary with results\n",
    "wx_dict = {\"City\":name,\"Cloudiness\":cloud,\"Country\":country,\n",
    "           \"Date\":date,\"Humidity\":humid,\"Lat\":lat,\"Lon\":lon,\n",
    "           \"Max Temp\":temp_max, \"Wind Speed\":wind}\n",
    "# create dataframe\n",
    "city_wx_df = pd.DataFrame(wx_dict)"
   ]
  },
  {
   "cell_type": "code",
   "execution_count": null,
   "metadata": {},
   "outputs": [],
   "source": [
    "city_wx_df.to_csv('city_weather.csv')\n",
    "city_wx_df.head()"
   ]
  },
  {
   "cell_type": "code",
   "execution_count": null,
   "metadata": {
    "collapsed": true
   },
   "outputs": [],
   "source": [
    "temp_df = city_wx_df.sort_values('Max Temp', ascending=False)\n",
    "temp_range = temp_df['Max Temp']"
   ]
  },
  {
   "cell_type": "code",
   "execution_count": null,
   "metadata": {},
   "outputs": [],
   "source": [
    "#City Latitude vs. Max Temperature\n",
    "fig = plt.figure(figsize=(10,8))\n",
    "plt.scatter(city_wx_df['Lat'], city_wx_df['Max Temp'])\n",
    "plt.grid()\n",
    "plt.title(\"City Latitude vs. Max Temperature \" + \"(\" + now +\")\") \n",
    "plt.xlabel(\"Latitude\")\n",
    "plt.ylabel(\"Max Temperature (F)\")\n",
    "plt.show()\n",
    "fig.savefig('Temp_vs_Lat.png')"
   ]
  },
  {
   "cell_type": "code",
   "execution_count": null,
   "metadata": {},
   "outputs": [],
   "source": [
    "#City Latitude vs. Humidity\n",
    "fig = plt.figure(figsize=(10,8))\n",
    "plt.scatter(city_wx_df['Lat'], city_wx_df['Humidity'], color='cornflowerblue')\n",
    "plt.grid()\n",
    "plt.title(\"City Latitude vs. Humidity \" + \"(\" + now +\")\") \n",
    "plt.xlabel(\"Latitude\")\n",
    "plt.ylabel(\"Humidity (%)\")\n",
    "plt.show()\n",
    "fig.savefig('Humidity_vs_Lat.png')"
   ]
  },
  {
   "cell_type": "code",
   "execution_count": null,
   "metadata": {},
   "outputs": [],
   "source": [
    "#City Latitude vs. Cloudiness\n",
    "fig = plt.figure(figsize=(10,8))\n",
    "plt.scatter(city_wx_df['Lat'], city_wx_df['Cloudiness'],color='lightskyblue')\n",
    "plt.grid()\n",
    "plt.title(\"City Latitude vs. Cloudiness \" + \"(\" + now +\")\") \n",
    "plt.xlabel(\"Latitude\")\n",
    "plt.ylabel(\"Cloudiness (%)\")\n",
    "plt.show()\n",
    "fig.savefig('Cloudiness_vs_Lat.png')"
   ]
  },
  {
   "cell_type": "code",
   "execution_count": null,
   "metadata": {},
   "outputs": [],
   "source": [
    "#City Latitude vs. Wind Speed\n",
    "fig = plt.figure(figsize=(10,8))\n",
    "plt.scatter(city_wx_df['Lat'], city_wx_df['Wind Speed'],color='steelblue')\n",
    "plt.grid()\n",
    "plt.title(\"City Latitude vs. Wind Speed \" + \"(\" + now +\")\") \n",
    "plt.xlabel(\"Latitude\")\n",
    "plt.ylabel(\"Wind Speed (mph)\")\n",
    "plt.show()\n",
    "fig.savefig('WindSpeed_vs_Lat.png')"
   ]
  },
  {
   "cell_type": "code",
   "execution_count": null,
   "metadata": {
    "collapsed": true
   },
   "outputs": [],
   "source": []
  }
 ],
 "metadata": {
  "kernelspec": {
   "display_name": "Python 3",
   "language": "python",
   "name": "python3"
  },
  "language_info": {
   "codemirror_mode": {
    "name": "ipython",
    "version": 3
   },
   "file_extension": ".py",
   "mimetype": "text/x-python",
   "name": "python",
   "nbconvert_exporter": "python",
   "pygments_lexer": "ipython3",
   "version": "3.6.1"
  }
 },
 "nbformat": 4,
 "nbformat_minor": 2
}
