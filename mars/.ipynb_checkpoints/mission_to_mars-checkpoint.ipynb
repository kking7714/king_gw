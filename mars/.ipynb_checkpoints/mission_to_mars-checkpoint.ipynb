{
 "cells": [
  {
   "cell_type": "code",
   "execution_count": null,
   "metadata": {
    "collapsed": true
   },
   "outputs": [],
   "source": [
    "import time\n",
    "from splinter import Browser\n",
    "from bs4 import BeautifulSoup as bs\n",
    "from selenium import webdriver\n",
    "import requests as request\n",
    "import pandas as pd\n",
    "import pymongo"
   ]
  },
  {
   "cell_type": "code",
   "execution_count": null,
   "metadata": {
    "collapsed": true
   },
   "outputs": [],
   "source": [
    "#Use beautifulsoup to parse the site \n",
    "url = 'https://mars.nasa.gov/news/'\n",
    "response = request.get(url)\n",
    "soup = bs(response.text,'html.parser')"
   ]
  },
  {
   "cell_type": "code",
   "execution_count": null,
   "metadata": {
    "collapsed": true
   },
   "outputs": [],
   "source": [
    "# print(soup.prettify())"
   ]
  },
  {
   "cell_type": "code",
   "execution_count": null,
   "metadata": {
    "collapsed": true
   },
   "outputs": [],
   "source": [
    "#Gather most recent title and article description\n",
    "results = soup.find(class_ = \"slide\")\n",
    "description = soup.find(class_ = \"rollover_description_inner\")\n",
    "title = soup.find(class_ = \"content_title\")\n",
    "\n",
    "news_title = title.text.replace('\\n','').replace('\\r','')\n",
    "news_p = description.text.replace('\\n','').replace('\\r','')"
   ]
  },
  {
   "cell_type": "code",
   "execution_count": null,
   "metadata": {
    "collapsed": true
   },
   "outputs": [],
   "source": [
    "jpl_url = 'https://www.jpl.nasa.gov/spaceimages/?search=&category=Mars'\n",
    "jpl_response = request.get(jpl_url)\n",
    "jpl_soup = bs(jpl_response.text,'html.parser')"
   ]
  },
  {
   "cell_type": "code",
   "execution_count": null,
   "metadata": {
    "collapsed": true
   },
   "outputs": [],
   "source": [
    "# print(jpl_soup.prettify())"
   ]
  },
  {
   "cell_type": "code",
   "execution_count": null,
   "metadata": {
    "collapsed": true
   },
   "outputs": [],
   "source": [
    "#Gather image urls from the jpl site\n",
    "jpl = jpl_soup.find_all(class_ = 'img')\n",
    "url_list = []\n",
    "for j in jpl:\n",
    "    pl = j.find('img')['src']\n",
    "    img_urls = jpl_url + pl\n",
    "    url_list.append(img_urls)\n",
    "featured_image_url = url_list[0]"
   ]
  },
  {
   "cell_type": "code",
   "execution_count": null,
   "metadata": {
    "collapsed": true
   },
   "outputs": [],
   "source": [
    "#Visit the mars twitter page and gather the latest weather content\n",
    "mars_tweet_url = 'https://twitter.com/marswxreport?lang=en'\n",
    "mars_response = request.get(mars_tweet_url)\n",
    "tweet_soup = bs(mars_response.text,'html.parser')\n",
    "# print(tweet_soup.prettify())\n",
    "tweets = tweet_soup.find_all(class_ = 'TweetTextSize TweetTextSize--normal js-tweet-text tweet-text')\n",
    "wx = []\n",
    "for t in tweets:\n",
    "    if 'daylight' in t.text:\n",
    "        wx.append(t.text)\n",
    "mars_weather = wx[0]"
   ]
  },
  {
   "cell_type": "code",
   "execution_count": null,
   "metadata": {
    "collapsed": true
   },
   "outputs": [],
   "source": [
    "#Visit mars space facts page and gather table data\n",
    "mars_facts_url = 'https://space-facts.com/mars/'\n",
    "tables = pd.read_html(mars_facts_url)\n",
    "\n",
    "df = tables[0]\n",
    "cols = list(df[0])\n",
    "data = list(df[1])\n",
    "\n",
    "mars_dict = {'description':cols,'value':data}\n",
    "mars_df = pd.DataFrame(mars_dict)\n",
    "mars_df.set_index('description',inplace=True)\n",
    "mars_table = mars_df.to_html()\n",
    "#table stored as an html string with \\n removed\n",
    "mars_string = mars_table.replace('\\n','')"
   ]
  },
  {
   "cell_type": "code",
   "execution_count": null,
   "metadata": {
    "collapsed": true
   },
   "outputs": [],
   "source": [
    "# Mars Hemispheres\n",
    "hemisphere_image_urls = [\n",
    "    {\"title\": \"Cerberus Hemisphere\", \"img_url\": \"https://astropedia.astrogeology.usgs.gov/download/Mars/Viking/cerberus_enhanced.tif/full.jpg\"},\n",
    "    {\"title\": \"Schiaparelli Hemisphere\", \"img_url\":\"https://astropedia.astrogeology.usgs.gov/download/Mars/Viking/schiaparelli_enhanced.tif/full.jpg\"},\n",
    "    {\"title\": \"Syrtis Major Hemisphere\", \"img_url\": \"https://astropedia.astrogeology.usgs.gov/download/Mars/Viking/syrtis_major_enhanced.tif/full.jpg\"},\n",
    "    {\"title\": \"Valles Marineris Hempisphere\", \"img_url\":\"https://astropedia.astrogeology.usgs.gov/download/Mars/Viking/valles_marineris_enhanced.tif/full.jpg\"}\n",
    "    ]"
   ]
  },
  {
   "cell_type": "code",
   "execution_count": null,
   "metadata": {
    "collapsed": true
   },
   "outputs": [],
   "source": [
    "# Insert mars hemisphere information in to a Mongo DB\n",
    "conn = 'mongodb://localhost:27017'\n",
    "client = pymongo.MongoClient(conn)\n",
    "db = client.mars_db\n",
    "collections = db.items\n",
    "for x in hemisphere_image_urls:\n",
    "    collections.insert_one(x)"
   ]
  },
  {
   "cell_type": "code",
   "execution_count": null,
   "metadata": {},
   "outputs": [],
   "source": [
    "# Query the mars_db\n",
    "mars_query = db.items.find()\n",
    "for m in mars_query:\n",
    "    print(m)"
   ]
  },
  {
   "cell_type": "code",
   "execution_count": null,
   "metadata": {
    "collapsed": true
   },
   "outputs": [],
   "source": [
    "def init_browser():\n",
    "    # @NOTE: Replace the path with your actual path to the chromedriver\n",
    "    executable_path = {\"executable_path\": \"chromedriver\"}\n",
    "    return Browser(\"chrome\", **executable_path, headless=False)\n",
    "browser = init_browser()"
   ]
  },
  {
   "cell_type": "code",
   "execution_count": null,
   "metadata": {
    "collapsed": true
   },
   "outputs": [],
   "source": [
    "url = \"https://astrogeology.usgs.gov/search/results?q=hemisphere+enhanced&k1=target&v1=Mars\"\n",
    "base_url = \"https://astrogeology.usgs.gov\"\n",
    "browser.visit(url)\n",
    "time.sleep(1)\n",
    "html = browser.html\n",
    "soup = BeautifulSoup(html, 'lxml')\n",
    "url_list = []\n",
    "title_list =[]\n",
    "jpg_url_list =[]\n",
    "hemisphere_image_urls = []\n",
    "results = soup.find('div', class_=\"collapsible results\")\n",
    "links = results.find_all('a', class_=\"item product-item\")\n",
    "titles= results.find_all('h3')\n",
    "for link in links:\n",
    "    url_list.append(base_url+link[\"href\"])\n",
    "\n",
    "for title in titles:\n",
    "    title_list.append(title.text)\n",
    "\n",
    "for item in url_list:\n",
    "    browser.visit(item)\n",
    "    time.sleep(1)\n",
    "\n",
    "    html = browser.html\n",
    "    soup = BeautifulSoup(html, 'lxml')\n",
    "\n",
    "    downloads = soup.find('div', class_=\"downloads\")\n",
    "    jpg = downloads.find_all('a')\n",
    "    jpg_url = jpg[0][\"href\"]\n",
    "    jpg_url_list.append(jpg_url)\n",
    "\n",
    "for i in range(0,len(title_list)):\n",
    "    hemisphere_image_urls.append({\"title\": title_list[i], \"img_url\": jpg_url_list[i]})"
   ]
  },
  {
   "cell_type": "code",
   "execution_count": null,
   "metadata": {},
   "outputs": [],
   "source": [
    "hemisphere_image_urls"
   ]
  },
  {
   "cell_type": "code",
   "execution_count": null,
   "metadata": {
    "collapsed": true
   },
   "outputs": [],
   "source": []
  }
 ],
 "metadata": {
  "kernelspec": {
   "display_name": "Python 3",
   "language": "python",
   "name": "python3"
  },
  "language_info": {
   "codemirror_mode": {
    "name": "ipython",
    "version": 3
   },
   "file_extension": ".py",
   "mimetype": "text/x-python",
   "name": "python",
   "nbconvert_exporter": "python",
   "pygments_lexer": "ipython3",
   "version": "3.6.3"
  }
 },
 "nbformat": 4,
 "nbformat_minor": 2
}
