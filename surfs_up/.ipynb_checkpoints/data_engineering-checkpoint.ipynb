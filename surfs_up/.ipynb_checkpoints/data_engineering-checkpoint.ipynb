{
 "cells": [
  {
   "cell_type": "code",
   "execution_count": 1,
   "metadata": {
    "collapsed": true
   },
   "outputs": [],
   "source": [
    "import pandas as pd"
   ]
  },
  {
   "cell_type": "code",
   "execution_count": 2,
   "metadata": {
    "collapsed": true
   },
   "outputs": [],
   "source": [
    "path_1 = \"Resources/data/hawaii_measurements.csv\"\n",
    "path_2 = 'Resources/data/hawaii_stations.csv'\n",
    "#Read csv files in pandas\n",
    "hi_measure = pd.read_csv(path_1)\n",
    "hi_stations = pd.read_csv(path_2)"
   ]
  },
  {
   "cell_type": "code",
   "execution_count": 3,
   "metadata": {
    "collapsed": true
   },
   "outputs": [],
   "source": [
    "## Inspecting Data\n",
    "## Print column names of hi_measure and their respective unique values\n",
    "# measure_cols = hi_measure.columns\n",
    "# for i in measure_cols:\n",
    "#     print(i,'\\n', hi_measure[i].unique())"
   ]
  },
  {
   "cell_type": "code",
   "execution_count": 4,
   "metadata": {
    "collapsed": true
   },
   "outputs": [],
   "source": [
    "# hi_measure.columns"
   ]
  },
  {
   "cell_type": "code",
   "execution_count": 5,
   "metadata": {
    "collapsed": true
   },
   "outputs": [],
   "source": [
    "hi_measure['prcp'].fillna(0,inplace=True)\n",
    "# hi_measure.head()"
   ]
  },
  {
   "cell_type": "code",
   "execution_count": 6,
   "metadata": {
    "collapsed": true
   },
   "outputs": [],
   "source": [
    "### Inspecting Data\n",
    "### Print column names of hi_stations and their respective unique values\n",
    "# station_cols = hi_stations.columns\n",
    "# for i in station_cols:\n",
    "#     print(i,'\\n', hi_stations[i].unique())\n",
    "# hi_stations.head()"
   ]
  },
  {
   "cell_type": "code",
   "execution_count": 7,
   "metadata": {
    "collapsed": true
   },
   "outputs": [],
   "source": [
    "hi_measure.to_csv(\"Resources/data/clean_hawaii_measurements.csv\",index=False)\n",
    "hi_stations.to_csv(\"Resources/data/clean_hawaii_stations.csv\",index=False)"
   ]
  },
  {
   "cell_type": "code",
   "execution_count": null,
   "metadata": {
    "collapsed": true
   },
   "outputs": [],
   "source": []
  }
 ],
 "metadata": {
  "kernelspec": {
   "display_name": "Python 3",
   "language": "python",
   "name": "python3"
  },
  "language_info": {
   "codemirror_mode": {
    "name": "ipython",
    "version": 3
   },
   "file_extension": ".py",
   "mimetype": "text/x-python",
   "name": "python",
   "nbconvert_exporter": "python",
   "pygments_lexer": "ipython3",
   "version": "3.6.3"
  }
 },
 "nbformat": 4,
 "nbformat_minor": 2
}
