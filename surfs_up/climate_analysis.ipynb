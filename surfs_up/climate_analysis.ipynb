{
 "cells": [
  {
   "cell_type": "code",
   "execution_count": 1,
   "metadata": {
    "collapsed": true
   },
   "outputs": [],
   "source": [
    "#Import Dependencies\n",
    "import pymysql\n",
    "import sqlite3\n",
    "import datetime\n",
    "import sqlalchemy\n",
    "import numpy as np\n",
    "import pandas as pd\n",
    "\n",
    "pymysql.install_as_MySQLdb()\n",
    "import matplotlib.pyplot as plt\n",
    "from flask import Flask, jsonify\n",
    "from sqlalchemy.orm import Session\n",
    "from sqlalchemy.ext.automap import automap_base \n",
    "from sqlalchemy.ext.declarative import declarative_base \n",
    "\n",
    "from sqlalchemy import create_engine\n",
    "from sqlalchemy import func, inspect, Column, Float, Integer, String"
   ]
  },
  {
   "cell_type": "code",
   "execution_count": 2,
   "metadata": {
    "collapsed": true
   },
   "outputs": [],
   "source": [
    "engine = create_engine(\"sqlite:///hawaii2.sqlite\")\n",
    "conn = engine.connect()"
   ]
  },
  {
   "cell_type": "code",
   "execution_count": 3,
   "metadata": {},
   "outputs": [
    {
     "data": {
      "text/plain": [
       "['measurement', 'station']"
      ]
     },
     "execution_count": 3,
     "metadata": {},
     "output_type": "execute_result"
    }
   ],
   "source": [
    "inspector = inspect(engine)\n",
    "inspector.get_table_names()"
   ]
  },
  {
   "cell_type": "code",
   "execution_count": 4,
   "metadata": {},
   "outputs": [
    {
     "name": "stdout",
     "output_type": "stream",
     "text": [
      "measurement columns:\n",
      "\n",
      "measurement_id INTEGER\n",
      "station VARCHAR\n",
      "date VARCHAR\n",
      "prcp FLOAT\n",
      "tobs INTEGER\n",
      "------------------------\n",
      "station columns:\n",
      "\n",
      "station_id INTEGER\n",
      "station VARCHAR\n",
      "name VARCHAR\n",
      "latitude FLOAT\n",
      "longitude FLOAT\n",
      "elevation FLOAT\n",
      "location VARCHAR\n"
     ]
    }
   ],
   "source": [
    "columns_measure = inspector.get_columns('measurement')\n",
    "print(\"measurement columns:\\n\")\n",
    "for m in columns_measure:\n",
    "    print(m['name'],m['type'])\n",
    "print('------------------------')\n",
    "print('station columns:\\n')\n",
    "columns_station = inspector.get_columns('station')\n",
    "for s in columns_station:\n",
    "    print(s['name'],s['type'])"
   ]
  },
  {
   "cell_type": "code",
   "execution_count": 5,
   "metadata": {},
   "outputs": [
    {
     "data": {
      "text/plain": [
       "['measurement', 'station']"
      ]
     },
     "execution_count": 5,
     "metadata": {},
     "output_type": "execute_result"
    }
   ],
   "source": [
    "Base = automap_base()\n",
    "Base.prepare(engine, reflect=True)\n",
    "Base.classes.keys()"
   ]
  },
  {
   "cell_type": "code",
   "execution_count": 6,
   "metadata": {
    "collapsed": true
   },
   "outputs": [],
   "source": [
    "session = Session(engine)"
   ]
  },
  {
   "cell_type": "code",
   "execution_count": 7,
   "metadata": {},
   "outputs": [],
   "source": [
    "hi = Base.classes.measurement"
   ]
  },
  {
   "cell_type": "code",
   "execution_count": 8,
   "metadata": {},
   "outputs": [],
   "source": [
    "# Example of fetching 10 rows\n",
    "# engine.execute('SELECT * FROM measurement LIMIT 10').fetchall()\n",
    "def calc_temps(s_date,e_date):\n",
    "    result = session.query(hi.tobs).filter(hi.date >= s_date).filter(hi.date <= e_date).all()\n",
    "    sum_temp = 0\n",
    "    results = [a[0] for a in result[:]]\n",
    "    df = pd.DataFrame(results)[0]\n",
    "    temp_mean = df.mean()\n",
    "    temp_max = df.max()\n",
    "    temp_min = df.min()\n",
    "    return temp_mean, temp_max, temp_min"
   ]
  },
  {
   "cell_type": "code",
   "execution_count": 9,
   "metadata": {},
   "outputs": [
    {
     "name": "stdout",
     "output_type": "stream",
     "text": [
      "Define a start date ('yyyy-mm-dd'): 2017-02-14\n",
      "Define an end date ('yyyy-mm-dd'): 2017-03-01\n"
     ]
    }
   ],
   "source": [
    "start_date = input(\"Define a start date ('yyyy-mm-dd'): \")\n",
    "end_date = input(\"Define an end date ('yyyy-mm-dd'): \")\n",
    "s_date = start_date.replace(start_date[3], str(int(start_date[3])-1))\n",
    "e_date = end_date.replace(end_date[3], str(int(end_date[3])-1))\n",
    "\n",
    "one_year = datetime.datetime.now() - datetime.timedelta(days=365)\n",
    "last_year = \"%s-%s-%s\" % (one_year.year,one_year.month,one_year.day)"
   ]
  },
  {
   "cell_type": "code",
   "execution_count": 10,
   "metadata": {},
   "outputs": [
    {
     "data": {
      "image/png": "[encoded data removed]",
      "text/plain": [
       "<matplotlib.figure.Figure at 0x10d7c9978>"
      ]
     },
     "metadata": {},
     "output_type": "display_data"
    }
   ],
   "source": [
    "prcp_one_year_results = session.query(hi.date, hi.prcp).filter(hi.date >= last_year).all()\n",
    "dates_ = [result[0] for result in prcp_one_year_results[:]]\n",
    "prcp_ = [result[1] for result in prcp_one_year_results[:]]\n",
    "\n",
    "prcp_dict = {'Precipitation': prcp_,'Date':dates_}\n",
    "prcp_df = pd.DataFrame(prcp_dict)\n",
    "prcp_df.set_index(pd.DatetimeIndex(prcp_df['Date']),inplace=True)\n",
    "#prcp_df.head()\n",
    "prcp_df.iloc[::-1].plot(title='Precipitation from %s' %(last_year))\n",
    "plt.tight_layout()\n",
    "plt.show()"
   ]
  },
  {
   "cell_type": "code",
   "execution_count": 11,
   "metadata": {},
   "outputs": [
    {
     "name": "stdout",
     "output_type": "stream",
     "text": [
      "Trip Dates: 2017-02-14 to 2017-03-01\n",
      "Avg Temp Expected: 70.77981651376147\n",
      "\n",
      "Station List\n",
      "('USC00519397',)\n",
      "('USC00513117',)\n",
      "('USC00514830',)\n",
      "('USC00517948',)\n",
      "('USC00518838',)\n",
      "('USC00519523',)\n",
      "('USC00519281',)\n",
      "('USC00511918',)\n",
      "('USC00516128',)\n",
      "-----------------------\n",
      "Stations | Observation Count\n",
      "('USC00514830', 2202)\n",
      "('USC00519523', 2669)\n",
      "('USC00517948', 1372)\n",
      "('USC00519397', 2724)\n",
      "('USC00519281', 2772)\n",
      "('USC00513117', 2709)\n",
      "('USC00516128', 2612)\n",
      "('USC00518838', 511)\n",
      "('USC00511918', 1979)\n"
     ]
    }
   ],
   "source": [
    "print(\"Trip Dates: %s to %s\" %(start_date,end_date))\n",
    "print(\"Avg Temp Expected: %s\" % calc_temps(s_date,e_date)[0])\n",
    "\n",
    "#Print out stations and their observation counts\n",
    "print(\"\\nStation List\")\n",
    "for s in session.query(hi.station).distinct():\n",
    "    print(s)\n",
    "print(\"-----------------------\\nStations | Observation Count\")\n",
    "\n",
    "for a in session.query(hi.station, func.count(hi.tobs)).group_by(hi.station).order_by(hi.tobs.desc()).all():\n",
    "    print(a)"
   ]
  },
  {
   "cell_type": "code",
   "execution_count": 12,
   "metadata": {},
   "outputs": [
    {
     "data": {
      "image/png": "[encoded data removed]",
      "text/plain": [
       "<matplotlib.figure.Figure at 0x104766fd0>"
      ]
     },
     "metadata": {},
     "output_type": "display_data"
    }
   ],
   "source": [
    "temp_one_year_results = session.query(hi.tobs,func.count(hi.tobs)).group_by(hi.tobs).filter(hi.date >= last_year).all()\n",
    "tobs_ = [result[0] for result in temp_one_year_results[:]]\n",
    "tobs_freq = [result[1] for result in temp_one_year_results[:]]\n",
    "tobs_dict = {'Frequency':tobs_freq,'Temperature': tobs_}\n",
    "tobs_df = pd.DataFrame(tobs_dict)\n",
    "tobs_df.set_index('Temperature',inplace=True)\n",
    "#tobs_df.head()\n",
    "\n",
    "#Plot the observation count per temperature over the last year. \n",
    "#I found this bar more conveying then a historgram, which I had also coded. \n",
    "tobs_df.plot.bar(title='Temperature Observation Counts from %s' %(last_year))\n",
    "# area plot equivalent\n",
    "# tobs_df.plot.area(color='orange',alpha=0.2)\n",
    "plt.tight_layout()\n",
    "plt.show()"
   ]
  },
  {
   "cell_type": "code",
   "execution_count": null,
   "metadata": {
    "collapsed": true
   },
   "outputs": [],
   "source": []
  }
 ],
 "metadata": {
  "kernelspec": {
   "display_name": "Python 3",
   "language": "python",
   "name": "python3"
  },
  "language_info": {
   "codemirror_mode": {
    "name": "ipython",
    "version": 3
   },
   "file_extension": ".py",
   "mimetype": "text/x-python",
   "name": "python",
   "nbconvert_exporter": "python",
   "pygments_lexer": "ipython3",
   "version": "3.6.3"
  }
 },
 "nbformat": 4,
 "nbformat_minor": 2
}
